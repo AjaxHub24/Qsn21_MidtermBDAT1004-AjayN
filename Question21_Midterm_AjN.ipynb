{
 "cells": [
  {
   "cell_type": "markdown",
   "id": "bda1c3c8",
   "metadata": {},
   "source": [
    "Question 21:\n",
    "\n",
    "In a jupyter notebook solve the following question. Please upload the notebook to GitHub and provide the link submission box below.\n",
    "\n",
    " \n",
    "\n",
    "__int()__: Constructor that takes as input a pair of Point objects that represent the ends points of the line segment\n",
    "\n",
    "Length():: returns the length if the segment \n",
    "\n",
    "Slope() returns the slope of the segment of none if the slope is unbounded \n",
    "\n",
    " \n",
    "\n",
    ">>> p1 = Point(3,4)\n",
    "\n",
    ">>> p2 = Point()\n",
    "\n",
    ">>> s = Segment(p1,p2)"
   ]
  },
  {
   "cell_type": "code",
   "execution_count": 89,
   "id": "6708878e",
   "metadata": {},
   "outputs": [],
   "source": [
    "class point:\n",
    "    def __init__(self, x=0, y=0):\n",
    "        self.x_coordinate=x                           #For point class, sets of x and y coord.\n",
    "        self.y_coordinate=y\n",
    "        \n",
    "class segment:\n",
    "    def __init__(self, p1, p2):\n",
    "        self.p1 = p1                      #For segment class, sets of two points\n",
    "        self.p2 = p2\n",
    "    \n",
    "    def length(self):                     #calculates length of segment\n",
    "        return((self.p2.x_coordinate-self.p1.x_coordinate)**2+(self.p2.y_coordinate-self.p1.y_coordinate)**2)**0.5\n",
    "    \n",
    "    def slope(self):\n",
    "        if self.p2.x_coordinate-self.p1.x_coordinate == 0:      #calculates slope of line passing through both points\n",
    "            return None\n",
    "        else:\n",
    "            return (self.p2.x_coordinate-self.p1.x_coordinate)/(self.p2.y_coordinate-self.p1.y_coordinate)\n",
    "    \n",
    "    \n",
    "p1 = point(3,4)\n",
    "p2 = point()\n",
    "s = segment(p1, p2)\n"
   ]
  },
  {
   "cell_type": "code",
   "execution_count": 90,
   "id": "fc9237d7",
   "metadata": {},
   "outputs": [
    {
     "name": "stdout",
     "output_type": "stream",
     "text": [
      "Length: 5.0\n"
     ]
    }
   ],
   "source": [
    "print(\"Length:\",s.length())"
   ]
  },
  {
   "cell_type": "code",
   "execution_count": 91,
   "id": "4137f6e3",
   "metadata": {},
   "outputs": [
    {
     "name": "stdout",
     "output_type": "stream",
     "text": [
      "Slope: 0.75\n"
     ]
    }
   ],
   "source": [
    "print(\"Slope:\",s.slope())"
   ]
  },
  {
   "cell_type": "code",
   "execution_count": null,
   "id": "c6c966b2",
   "metadata": {},
   "outputs": [],
   "source": []
  }
 ],
 "metadata": {
  "kernelspec": {
   "display_name": "Python 3 (ipykernel)",
   "language": "python",
   "name": "python3"
  },
  "language_info": {
   "codemirror_mode": {
    "name": "ipython",
    "version": 3
   },
   "file_extension": ".py",
   "mimetype": "text/x-python",
   "name": "python",
   "nbconvert_exporter": "python",
   "pygments_lexer": "ipython3",
   "version": "3.11.7"
  }
 },
 "nbformat": 4,
 "nbformat_minor": 5
}
